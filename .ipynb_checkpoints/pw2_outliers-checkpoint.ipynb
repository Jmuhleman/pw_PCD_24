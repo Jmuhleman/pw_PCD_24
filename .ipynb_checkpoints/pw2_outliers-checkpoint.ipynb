{
 "cells": [
  {
   "cell_type": "code",
   "execution_count": 4,
   "id": "db3efa9c-c735-4897-860d-c30291d62705",
   "metadata": {},
   "outputs": [],
   "source": [
    "from scipy.io import arff\n",
    "import pandas as pd\n",
    "\n",
    "data_aloi, meta_aloi = arff.loadarff('ALOI/ALOI/ALOI.arff')\n",
    "data_glass, meta_glass = arff.loadarff('Glass/Glass/glass.arff')\n",
    "data_ionos, meta_ionos = arff.loadarff('Ionosphere/Ionosphere/ionos.arff')\n",
    "# Convert to DataFrame\n",
    "df_aloi = pd.DataFrame(data_aloi)\n",
    "df_glass = pd.DataFrame(data_glass)\n",
    "df_ionos= pd.DataFrame(data_ionos)\n"
   ]
  },
  {
   "cell_type": "code",
   "execution_count": 13,
   "id": "977a46da-daea-4a0e-9f6a-f5e0495af4d8",
   "metadata": {
    "scrolled": true
   },
   "outputs": [],
   "source": [
    "y_aloi = df_aloi.copy()\n",
    "y_aloi = y_aloi['outlier']\n",
    "df_aloi = df_aloi.drop(columns='outlier')\n"
   ]
  },
  {
   "cell_type": "code",
   "execution_count": null,
   "id": "a4f96595-93da-4f88-b399-4026d0f69885",
   "metadata": {},
   "outputs": [],
   "source": [
    "from sklearn.neighbors import LocalOutlierFactor\n",
    "from sklearn.preprocessing import MinMaxScaler\n",
    "\n",
    "\n",
    "n_neighbors= [5, 10, 15, 20]\n",
    "contamination= [0.01, 0.05, 0.1, 0.15]\n",
    "n_max= 0\n",
    "c_ma= 0\n",
    "old_max= 0\n",
    "for k in n_neighbors:\n",
    "    for j in contamination:\n",
    "        lof_model = LocalOutlierFactor(n_neighbors=k, contamination=j)\n",
    "        df_aloi['lof_scores'] = lof_model.fit_predict(df_aloi)\n",
    "        \n",
    "        max = (df_aloi['lof_scores'] == -1).sum()\n",
    "        if max > old_max:\n",
    "            old_max = max\n",
    "            c_max = j\n",
    "            n_max = k\n",
    "\n",
    "print(c_max)\n",
    "print(n_max)\n",
    "print(old_max / len(df_aloi))"
   ]
  }
 ],
 "metadata": {
  "kernelspec": {
   "display_name": "Python 3 (ipykernel)",
   "language": "python",
   "name": "python3"
  },
  "language_info": {
   "codemirror_mode": {
    "name": "ipython",
    "version": 3
   },
   "file_extension": ".py",
   "mimetype": "text/x-python",
   "name": "python",
   "nbconvert_exporter": "python",
   "pygments_lexer": "ipython3",
   "version": "3.11.7"
  }
 },
 "nbformat": 4,
 "nbformat_minor": 5
}
