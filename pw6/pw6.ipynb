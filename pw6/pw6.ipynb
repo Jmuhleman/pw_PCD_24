{
 "cells": [
  {
   "cell_type": "code",
   "execution_count": null,
   "id": "26953df4-b71d-4395-929f-aec87b656d5b",
   "metadata": {},
   "outputs": [],
   "source": [
    "import nltk\n",
    "#nltk.download('reuters')\n",
    "from nltk.corpus import reuters\n",
    "print(reuters.readme())\n",
    "print(reuters.fileids()[150:155])\n",
    "print('training files : ', len([fid for fid in reuters.fileids() if fid[:5] == 'train']))\n",
    "print('testing files : ', len([fid for fid in reuters.fileids() if fid[:4] == 'test']))\n",
    "print('total files : ', len(reuters.fileids()))\n",
    "print(reuters.words('test/15120')[:200])\n",
    "print(reuters.categories('test/15120'))"
   ]
  },
  {
   "cell_type": "code",
   "execution_count": 8,
   "id": "bd035051-632b-442d-a88a-9fa99a0145b4",
   "metadata": {},
   "outputs": [
    {
     "name": "stdout",
     "output_type": "stream",
     "text": [
      "                                                text  category\n",
      "0  ASIAN EXPORTERS FEAR DAMAGE FROM U . S .- JAPA...         0\n",
      "1  CHINA DAILY SAYS VERMIN EAT 7 - 12 PCT GRAIN S...         1\n",
      "2  JAPAN TO REVISE LONG - TERM ENERGY DEMAND DOWN...         0\n",
      "3  THAI TRADE DEFICIT WIDENS IN FIRST QUARTER Tha...         1\n",
      "4  INDONESIA SEES CPO PRICE RISING SHARPLY Indone...         0\n"
     ]
    }
   ],
   "source": [
    "import nltk\n",
    "from nltk.corpus import reuters\n",
    "import pandas as pd\n",
    "\n",
    "def join_tokens(tokens):\n",
    "    return ' '.join(tokens)\n",
    "\n",
    "data = []\n",
    "\n",
    "for file_id in reuters.fileids():\n",
    "    text = join_tokens(reuters.words(file_id))\n",
    "    category = 'grain' if 'grain' in reuters.categories(file_id) else 'non-grain'\n",
    "    label = 1 if category == 'grain' else 0\n",
    "    data.append((text, label))\n",
    "\n",
    "df = pd.DataFrame(data, columns=['text', 'category'])\n",
    "\n",
    "print(df.head())\n"
   ]
  },
  {
   "cell_type": "code",
   "execution_count": null,
   "id": "eee654bc-0c4a-4145-a2ee-f6296cb8cd94",
   "metadata": {},
   "outputs": [],
   "source": []
  },
  {
   "cell_type": "code",
   "execution_count": null,
   "id": "fb5204c8-6d3a-45e5-b57d-b8a98354631a",
   "metadata": {},
   "outputs": [],
   "source": []
  },
  {
   "cell_type": "code",
   "execution_count": null,
   "id": "1ac1ce71-7bad-4481-9bab-b379e963c7a9",
   "metadata": {},
   "outputs": [],
   "source": []
  }
 ],
 "metadata": {
  "kernelspec": {
   "display_name": "Python 3 (ipykernel)",
   "language": "python",
   "name": "python3"
  },
  "language_info": {
   "codemirror_mode": {
    "name": "ipython",
    "version": 3
   },
   "file_extension": ".py",
   "mimetype": "text/x-python",
   "name": "python",
   "nbconvert_exporter": "python",
   "pygments_lexer": "ipython3",
   "version": "3.11.7"
  }
 },
 "nbformat": 4,
 "nbformat_minor": 5
}
