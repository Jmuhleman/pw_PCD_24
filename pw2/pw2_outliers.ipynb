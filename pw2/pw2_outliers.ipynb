{
 "cells": [
  {
   "cell_type": "code",
   "execution_count": 4,
   "id": "db3efa9c-c735-4897-860d-c30291d62705",
   "metadata": {},
   "outputs": [],
   "source": [
    "from scipy.io import arff\n",
    "import pandas as pd\n",
    "\n",
    "data_aloi, meta_aloi = arff.loadarff('ALOI/ALOI/ALOI.arff')\n",
    "data_glass, meta_glass = arff.loadarff('Glass/Glass/glass.arff')\n",
    "data_ionos, meta_ionos = arff.loadarff('Ionosphere/Ionosphere/ionos.arff')\n",
    "# Convert to DataFrame\n",
    "df_aloi = pd.DataFrame(data_aloi)\n",
    "df_glass = pd.DataFrame(data_glass)\n",
    "df_ionos= pd.DataFrame(data_ionos)\n"
   ]
  },
  {
   "cell_type": "code",
   "execution_count": 13,
   "id": "977a46da-daea-4a0e-9f6a-f5e0495af4d8",
   "metadata": {
    "scrolled": true
   },
   "outputs": [],
   "source": [
    "y_aloi = df_aloi.copy()\n",
    "y_aloi = y_aloi['outlier']\n",
    "df_aloi = df_aloi.drop(columns='outlier')\n"
   ]
  },
  {
   "cell_type": "code",
   "execution_count": 31,
   "id": "a4f96595-93da-4f88-b399-4026d0f69885",
   "metadata": {},
   "outputs": [
    {
     "ename": "IndentationError",
     "evalue": "unexpected indent (4127019315.py, line 12)",
     "output_type": "error",
     "traceback": [
      "\u001b[1;36m  Cell \u001b[1;32mIn[31], line 12\u001b[1;36m\u001b[0m\n\u001b[1;33m    lof_model = LocalOutlierFactor(n_neighbors=k, contamination=j)\u001b[0m\n\u001b[1;37m    ^\u001b[0m\n\u001b[1;31mIndentationError\u001b[0m\u001b[1;31m:\u001b[0m unexpected indent\n"
     ]
    }
   ],
   "source": [
    "from sklearn.neighbors import LocalOutlierFactor\n",
    "from sklearn.preprocessing import MinMaxScaler\n",
    "\n",
    "\n",
    "n_neighbors= [5, 10, 15, 20]\n",
    "contamination= [0.01, 0.05, 0.1, 0.15]\n",
    "n_max= 0\n",
    "c_ma= 0\n",
    "old_max= 0\n",
    "#for k in n_neighbors:\n",
    "#    for j in contamination:\n",
    "lof_model = LocalOutlierFactor(n_neighbors=k, contamination=j)\n",
    "df_aloi['lof_scores'] = lof_model.fit_predict(df_aloi)\n",
    "\n",
    "max = (df_aloi['lof_scores'] == -1).sum()\n",
    "#        if max < old_max:\n",
    "#            old_max = max\n",
    "#            c_max = j\n",
    "#            n_max = k\n",
    "\n",
    "print(\"conta\", c_max)\n",
    "print(\"neighboor\", n_max)\n",
    "print(old_max)"
   ]
  }
 ],
 "metadata": {
  "kernelspec": {
   "display_name": "Python 3 (ipykernel)",
   "language": "python",
   "name": "python3"
  },
  "language_info": {
   "codemirror_mode": {
    "name": "ipython",
    "version": 3
   },
   "file_extension": ".py",
   "mimetype": "text/x-python",
   "name": "python",
   "nbconvert_exporter": "python",
   "pygments_lexer": "ipython3",
   "version": "3.11.7"
  }
 },
 "nbformat": 4,
 "nbformat_minor": 5
}
