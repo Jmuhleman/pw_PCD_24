{
 "cells": [
  {
   "cell_type": "code",
   "execution_count": 32,
   "id": "db3efa9c-c735-4897-860d-c30291d62705",
   "metadata": {},
   "outputs": [],
   "source": [
    "from scipy.io import arff\n",
    "import pandas as pd\n",
    "\n",
    "data_aloi, meta_aloi = arff.loadarff('ALOI/ALOI/ALOI.arff')\n",
    "data_glass, meta_glass = arff.loadarff('Glass/Glass/glass.arff')\n",
    "data_ionos, meta_ionos = arff.loadarff('Ionosphere/Ionosphere/ionos.arff')\n",
    "# Convert to DataFrame\n",
    "df_aloi = pd.DataFrame(data_aloi)\n",
    "df_glass = pd.DataFrame(data_glass)\n",
    "df_ionos = pd.DataFrame(data_ionos)\n"
   ]
  },
  {
   "cell_type": "code",
   "execution_count": 2,
   "id": "278ea1b2-12fd-496a-9f05-71732ec63e1e",
   "metadata": {},
   "outputs": [],
   "source": [
    "# TODO expliquer ce que représente les datasets ICI"
   ]
  },
  {
   "cell_type": "code",
   "execution_count": 3,
   "id": "1217bb48-e2d0-4498-b595-5fd76c7d6c4a",
   "metadata": {},
   "outputs": [],
   "source": [
    "# préparation du dataset et des label\n",
    "# suppression des label et nettoyage des labels avec 1 et 0\n",
    "from sklearn.preprocessing import LabelEncoder\n",
    "\n",
    "def prepare_dataset(df, col_name):\n",
    "    y_aloi = df.copy()\n",
    "    # Supprimer la colonne 'outlier' du DataFrame\n",
    "    df_aloi = df.drop(columns=col_name)\n",
    "    label_encoder = LabelEncoder()\n",
    "    y_aloi[col_name] = label_encoder.fit_transform(y_aloi[col_name])\n",
    "    return df_aloi, y_aloi"
   ]
  },
  {
   "cell_type": "code",
   "execution_count": 4,
   "id": "8a77aa92-1d22-4981-9028-311636713ec8",
   "metadata": {},
   "outputs": [],
   "source": [
    "# calculs des outliers avec LOF selon les paramètes\n",
    "# return un tableau des outliers detectés\n",
    "from sklearn.neighbors import LocalOutlierFactor\n",
    "from sklearn.model_selection import train_test_split\n",
    "\n",
    "def compute_outliers_LOF(df, n_neig, cont): \n",
    "    lof_model = LocalOutlierFactor(n_neighbors=n_neig, contamination=cont)\n",
    "    outlier_scores = lof_model.fit_predict(df)\n",
    "    # -1 outlier et 1 inlier\n",
    "    # convertion en 1 outlier et 0 inlier\n",
    "    outliers_detected = outlier_scores == -1\n",
    "    return outliers_detected.astype(int)"
   ]
  },
  {
   "cell_type": "code",
   "execution_count": 33,
   "id": "a4f96595-93da-4f88-b399-4026d0f69885",
   "metadata": {},
   "outputs": [],
   "source": [
    "# application de LOF\n",
    "from sklearn.metrics import f1_score\n",
    "from sklearn.metrics import accuracy_score\n",
    "from sklearn.metrics import recall_score\n",
    "from sklearn.model_selection import ParameterGrid\n",
    "def run_search_best_params(df, y, label_col):    \n",
    "    # Paramètres à tester\n",
    "    param_grid = {\n",
    "        'n_neighbors': [3, 5, 10],\n",
    "        'contamination': [0.005, 0.01, 0.05, 0.1]\n",
    "    }\n",
    "    \n",
    "    # Meilleurs résultats initiaux\n",
    "    meilleur_f1 = 0\n",
    "    meilleurs_params = None\n",
    "    \n",
    "    # combinaisons de paramètres\n",
    "    for params in ParameterGrid(param_grid):\n",
    "        outliers_detected = compute_outliers_LOF(df, params['n_neighbors'], params['contamination'])\n",
    "        \n",
    "        f1 = f1_score(y[label_col], outliers_detected)\n",
    "        accuracy = accuracy_score(y[label_col], outliers_detected)\n",
    "        recall = recall_score(y[label_col], outliers_detected)\n",
    "\n",
    "        print(f\"Paramètres : {params}\")\n",
    "        print(f\"Précision : {accuracy * 100:.2f}%\")\n",
    "        print(f\"Recall : {recall * 100:.2f}%\")\n",
    "        print(f\"F1 score : {f1:.2f}\")\n",
    "        print(\"----------------------\")\n",
    "        \n",
    "        # Mettre à jour les meilleurs paramètres si nécessaire\n",
    "        if f1 > meilleur_f1:\n",
    "            meilleur_f1 = f1\n",
    "            meilleurs_params = params\n",
    "    \n",
    "    print(\"Meilleurs paramètres:\")\n",
    "    print(meilleurs_params)\n",
    "    print(\"Meilleur F1 score : {:.2f}\".format(meilleur_f1))"
   ]
  },
  {
   "cell_type": "code",
   "execution_count": null,
   "id": "8d7009ba-597b-4228-b7d7-3fd25e6107f8",
   "metadata": {},
   "outputs": [
    {
     "name": "stdout",
     "output_type": "stream",
     "text": [
      "computing ALOI dataset...\n"
     ]
    }
   ],
   "source": [
    "# test pour dataset ALOI - ALOI 49534 objects, 1508 outliers (3.04%) ALOI\n",
    "print(\"computing ALOI dataset...\")\n",
    "df_aloi, y_aloi = prepare_dataset(df_aloi, 'outlier')\n",
    "run_search_best_params(df_aloi, y_aloi, 'outlier')\n",
    "\n",
    "# test pour dataset glass\n",
    "# 7 attributes, 214 objects, 9 outliers (4.21%)\n",
    "print(\"computing GLASS dataset...\")\n",
    "df_glass, y_glass = prepare_dataset(df_glass, 'outlier')\n",
    "run_search_best_params(df_glass, y_glass, 'outlier')\n",
    "\n",
    "\n",
    "# test pour dataset Ionosphere\n",
    "# 32 attributes, 351 objects, 126 outliers (35.90%)\n",
    "print(\"computing IONOS dataset...\")\n",
    "df_ionos, y_ionos = prepare_dataset(df_ionos, 'outlier')\n",
    "run_search_best_params(df_ionos, y_ionos, 'outlier')\n"
   ]
  }
 ],
 "metadata": {
  "kernelspec": {
   "display_name": "Python 3 (ipykernel)",
   "language": "python",
   "name": "python3"
  },
  "language_info": {
   "codemirror_mode": {
    "name": "ipython",
    "version": 3
   },
   "file_extension": ".py",
   "mimetype": "text/x-python",
   "name": "python",
   "nbconvert_exporter": "python",
   "pygments_lexer": "ipython3",
   "version": "3.11.7"
  }
 },
 "nbformat": 4,
 "nbformat_minor": 5
}
