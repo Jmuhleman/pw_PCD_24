{
 "cells": [
  {
   "cell_type": "code",
   "execution_count": 15,
   "id": "0a061b79-2459-4bb1-82bc-524ee7806898",
   "metadata": {},
   "outputs": [],
   "source": [
    "from pyAudioAnalysis import audioBasicIO\n",
    "from pyAudioAnalysis import ShortTermFeatures\n",
    "import os\n",
    "\n",
    "def process_directory(directory_path):\n",
    "    audio_files = [f for f in os.listdir(directory_path) if f.endswith('.mp3') or f.endswith('.wav')]\n",
    "\n",
    "    all_features = []\n",
    "    \n",
    "    for audio_file in audio_files:\n",
    "        filepath = os.path.join(directory_path, audio_file)\n",
    "        [Fs, x] = audioBasicIO.read_audio_file(filepath) # nécessaire!\n",
    "        x = audioBasicIO.stereo_to_mono(x)\n",
    "\n",
    "        short_term_features = ShortTermFeatures.feature_extraction(x, Fs, 0.050*Fs, 0.025*Fs)\n",
    "        all_features.append(short_term_features)\n",
    "        return all_features\n",
    "\n"
   ]
  },
  {
   "cell_type": "code",
   "execution_count": null,
   "id": "7d74fdfc-d5b3-4a0a-a9a8-460ebe1eeec8",
   "metadata": {},
   "outputs": [],
   "source": [
    "list_features = process_directory(\"d\")"
   ]
  },
  {
   "cell_type": "code",
   "execution_count": null,
   "id": "bc498716-1fa9-4442-af98-51e02ade1e7b",
   "metadata": {},
   "outputs": [],
   "source": [
    "from pyAudioAnalysis import audioBasicIO\n",
    "from pyAudioAnalysis import ShortTermFeatures\n",
    "import matplotlib.pyplot as plt\n",
    "\n",
    "\n",
    "[Fs, x] = audioBasicIO.read_audio_generic(\"./d/0.wav\")\n",
    "x = audioBasicIO.stereo_to_mono(x)\n",
    "\n",
    "F, f_names = ShortTermFeatures.feature_extraction(x, Fs, 0.050*Fs, 0.025*Fs)\n",
    "\n",
    "plt.subplot(2,1,1); plt.plot(F[0,:]); plt.xlabel('Frame no'); plt.ylabel(f_names[0]) \n",
    "plt.subplot(2,1,2); plt.plot(F[1,:]); plt.xlabel('Frame no'); plt.ylabel(f_names[1]); plt.show()"
   ]
  }
 ],
 "metadata": {
  "kernelspec": {
   "display_name": "Python 3 (ipykernel)",
   "language": "python",
   "name": "python3"
  },
  "language_info": {
   "codemirror_mode": {
    "name": "ipython",
    "version": 3
   },
   "file_extension": ".py",
   "mimetype": "text/x-python",
   "name": "python",
   "nbconvert_exporter": "python",
   "pygments_lexer": "ipython3",
   "version": "3.11.7"
  }
 },
 "nbformat": 4,
 "nbformat_minor": 5
}
