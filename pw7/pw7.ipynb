{
 "cells": [
  {
   "cell_type": "code",
   "execution_count": 13,
   "id": "0a061b79-2459-4bb1-82bc-524ee7806898",
   "metadata": {},
   "outputs": [],
   "source": [
    "from pyAudioAnalysis import audioBasicIO\n",
    "from pyAudioAnalysis import MidTermFeatures\n",
    "import os\n",
    "import numpy as np\n",
    "from scipy.spatial.distance import euclidean\n",
    "from scipy.stats import spearmanr\n",
    "\n",
    "def extract_global_features(filepath):\n",
    "    [Fs, x] = audioBasicIO.read_audio_file(filepath)\n",
    "    x = audioBasicIO.stereo_to_mono(x)\n",
    "    \n",
    "    # Extraction des attributs à moyen terme\n",
    "    mid_term_features, short_term_features, mid_feature_names = MidTermFeatures.mid_feature_extraction(x, Fs, 1.0 * Fs, 1.0 * Fs, 0.050 * Fs, 0.025 * Fs)\n",
    "    \n",
    "    # Calcul des attributs globaux (moyenne et écart-type des attributs à moyen terme)\n",
    "    mean_features = np.mean(mid_term_features, axis=1)\n",
    "    std_features = np.std(mid_term_features, axis=1)\n",
    "    global_features = np.concatenate((mean_features, std_features))\n",
    "    \n",
    "    return global_features"
   ]
  },
  {
   "cell_type": "code",
   "execution_count": 17,
   "id": "7d74fdfc-d5b3-4a0a-a9a8-460ebe1eeec8",
   "metadata": {},
   "outputs": [],
   "source": [
    "def process_directory(directory_path):\n",
    "    audio_files = [f for f in os.listdir(directory_path) if f.endswith('.mp3') or f.endswith('.wav')]\n",
    "    all_global_features = []\n",
    "    \n",
    "    for audio_file in audio_files:\n",
    "        filepath = os.path.join(directory_path, audio_file)\n",
    "        global_features = extract_global_features(filepath)\n",
    "        all_global_features.append(global_features)\n",
    "    \n",
    "    return np.array(all_global_features), audio_files\n"
   ]
  },
  {
   "cell_type": "code",
   "execution_count": 18,
   "id": "52add5a6-2aab-4c24-bb9f-35cbfcf57bea",
   "metadata": {},
   "outputs": [],
   "source": [
    "def calculate_distances(global_features, reference_index=0):\n",
    "    distances = []\n",
    "    for i in range(len(global_features)):\n",
    "        if i != reference_index:\n",
    "            dist = euclidean(global_features[reference_index], global_features[i])\n",
    "            distances.append((i, dist))\n",
    "    return sorted(distances, key=lambda x: x[1])\n",
    "\n",
    "def rank_tracks(distances):\n",
    "    return [x[0] for x in distances]\n",
    "\n",
    "def evaluate_ranking(sorted_indices, ground_truth):\n",
    "    rho, _ = spearmanr(sorted_indices, ground_truth)\n",
    "    return rho"
   ]
  },
  {
   "cell_type": "code",
   "execution_count": null,
   "id": "eaae63f5-0c9d-4cde-9336-50d1cd9a4a2f",
   "metadata": {},
   "outputs": [],
   "source": []
  },
  {
   "cell_type": "code",
   "execution_count": null,
   "id": "2333510e-6405-4717-a67c-82488aba1afe",
   "metadata": {},
   "outputs": [],
   "source": []
  },
  {
   "cell_type": "code",
   "execution_count": null,
   "id": "d19fec9d-b67c-4827-88ef-2b84a23f91b8",
   "metadata": {},
   "outputs": [],
   "source": []
  },
  {
   "cell_type": "code",
   "execution_count": 19,
   "id": "bc498716-1fa9-4442-af98-51e02ade1e7b",
   "metadata": {},
   "outputs": [
    {
     "name": "stdout",
     "output_type": "stream",
     "text": [
      "Classement des morceaux par distance croissante avec le morceau 0:\n",
      "Morceau 1 avec distance 2.287214932514865\n",
      "Morceau 2 avec distance 2.461829299035586\n",
      "Morceau 3 avec distance 4.199040157866551\n",
      "Morceau 5 avec distance 4.275541192050813\n",
      "Morceau 6 avec distance 6.547843959666771\n",
      "Morceau 4 avec distance 6.6437562220340345\n",
      "Morceau 7 avec distance 7.172492974405545\n",
      "Corrélation de Spearman: 0.8928571428571429\n",
      "Classement de référence: [1, 2, 3, 4, 5, 6, 7]\n"
     ]
    }
   ],
   "source": [
    "from pyAudioAnalysis import audioBasicIO\n",
    "from pyAudioAnalysis import MidTermFeatures\n",
    "import os\n",
    "import numpy as np\n",
    "from scipy.spatial.distance import euclidean\n",
    "from scipy.stats import spearmanr\n",
    "\n",
    "# Paramètres d'entrée\n",
    "directory_path = \"data\"\n",
    "ground_truth = [1, 2, 3, 4, 5, 6, 7]\n",
    "\n",
    "# Extraction des caractéristiques audio\n",
    "global_features, audio_files = process_directory(directory_path)\n",
    "\n",
    "# Calcul des distances L2 par rapport au morceau 0\n",
    "distances = calculate_distances(global_features)\n",
    "\n",
    "# Classement des morceaux par distance croissante\n",
    "sorted_indices = rank_tracks(distances)\n",
    "\n",
    "# Évaluation du classement\n",
    "rho = evaluate_ranking(sorted_indices, ground_truth)\n",
    "\n",
    "print(\"Classement des morceaux par distance croissante avec le morceau 0:\")\n",
    "for idx in sorted_indices:\n",
    "    print(f\"Morceau {idx} avec distance {dict(distances)[idx]}\")\n",
    "\n",
    "print(\"Corrélation de Spearman:\", rho)\n",
    "print(\"Classement de référence:\", ground_truth)\n",
    "\n"
   ]
  },
  {
   "cell_type": "code",
   "execution_count": null,
   "id": "fdcea8a9-1a89-4740-bf49-9b145937c597",
   "metadata": {},
   "outputs": [],
   "source": []
  }
 ],
 "metadata": {
  "kernelspec": {
   "display_name": "Python 3 (ipykernel)",
   "language": "python",
   "name": "python3"
  },
  "language_info": {
   "codemirror_mode": {
    "name": "ipython",
    "version": 3
   },
   "file_extension": ".py",
   "mimetype": "text/x-python",
   "name": "python",
   "nbconvert_exporter": "python",
   "pygments_lexer": "ipython3",
   "version": "3.11.7"
  }
 },
 "nbformat": 4,
 "nbformat_minor": 5
}
