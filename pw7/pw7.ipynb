{
 "cells": [
  {
   "cell_type": "code",
   "execution_count": 1,
   "id": "2333510e-6405-4717-a67c-82488aba1afe",
   "metadata": {},
   "outputs": [
    {
     "name": "stderr",
     "output_type": "stream",
     "text": [
      "C:\\Users\\Julien\\miniconda3\\envs\\PCD\\Lib\\site-packages\\pydub\\utils.py:170: RuntimeWarning: Couldn't find ffmpeg or avconv - defaulting to ffmpeg, but may not work\n",
      "  warn(\"Couldn't find ffmpeg or avconv - defaulting to ffmpeg, but may not work\", RuntimeWarning)\n"
     ]
    }
   ],
   "source": [
    "from pyAudioAnalysis import audioBasicIO\n",
    "from pyAudioAnalysis import MidTermFeatures\n",
    "import os\n",
    "import numpy as np\n",
    "from scipy.spatial.distance import euclidean\n",
    "from scipy.stats import spearmanr\n",
    "\n",
    "def extract_global_features(filepath):\n",
    "    [Fs, x] = audioBasicIO.read_audio_file(filepath)\n",
    "    x = audioBasicIO.stereo_to_mono(x)\n",
    "    \n",
    "    # Extraction des attributs à moyen terme\n",
    "    mid_term_features, short_term_features, mid_feature_names = MidTermFeatures.mid_feature_extraction(x, Fs, 1.0 * Fs, 1.0 * Fs, 0.050 * Fs, 0.025 * Fs)\n",
    "    \n",
    "    # Calcul des attributs globaux (moyenne et écart-type des attributs à moyen terme)\n",
    "    mean_features = np.mean(mid_term_features, axis=1)\n",
    "    std_features = np.std(mid_term_features, axis=1)\n",
    "    global_features = np.concatenate((mean_features, std_features))\n",
    "    \n",
    "    return global_features, mid_feature_names\n"
   ]
  },
  {
   "cell_type": "code",
   "execution_count": 2,
   "id": "d19fec9d-b67c-4827-88ef-2b84a23f91b8",
   "metadata": {},
   "outputs": [],
   "source": [
    "\n",
    "def process_directory(directory_path):\n",
    "    audio_files = [f for f in os.listdir(directory_path) if f.endswith('.mp3') or f.endswith('.wav')]\n",
    "    all_global_features = []\n",
    "    all_feature_names = None\n",
    "    \n",
    "    for audio_file in audio_files:\n",
    "        filepath = os.path.join(directory_path, audio_file)\n",
    "        global_features, feature_names = extract_global_features(filepath)\n",
    "        all_global_features.append(global_features)\n",
    "        if all_feature_names is None:\n",
    "            all_feature_names = feature_names\n",
    "    \n",
    "    return np.array(all_global_features), all_feature_names, audio_files"
   ]
  },
  {
   "cell_type": "code",
   "execution_count": 3,
   "id": "0ccc1782-2113-432c-a6a7-7bb766ab416f",
   "metadata": {},
   "outputs": [],
   "source": [
    "\n",
    "def calculate_distances(global_features, selected_features, reference_index=0):\n",
    "    distances = []\n",
    "    for i in range(len(global_features)):\n",
    "        if i != reference_index:\n",
    "            dist = euclidean(global_features[reference_index][selected_features], global_features[i][selected_features])\n",
    "            distances.append((i, dist))\n",
    "    return sorted(distances, key=lambda x: x[1])\n",
    "\n",
    "def rank_tracks(distances):\n",
    "    return [x[0] for x in distances]\n",
    "\n",
    "def evaluate_ranking(sorted_indices, ground_truth):\n",
    "    rho, _ = spearmanr(sorted_indices, ground_truth)\n",
    "    return rho\n",
    "\n",
    "def sequential_forward_selection(global_features, ground_truth, feature_names):\n",
    "    selected_features = []\n",
    "    remaining_features = list(range(global_features.shape[1]))\n",
    "    best_rho = -1\n",
    "\n",
    "    while remaining_features:\n",
    "        best_feature = None\n",
    "        best_new_rho = -1\n",
    "\n",
    "        for feature in remaining_features:\n",
    "            current_features = selected_features + [feature]\n",
    "            distances = calculate_distances(global_features, current_features)\n",
    "            sorted_indices = rank_tracks(distances)\n",
    "            rho = evaluate_ranking(sorted_indices, ground_truth)\n",
    "\n",
    "            if rho > best_new_rho:\n",
    "                best_new_rho = rho\n",
    "                best_feature = feature\n",
    "\n",
    "        if best_new_rho > best_rho:\n",
    "            best_rho = best_new_rho\n",
    "            selected_features.append(best_feature)\n",
    "            remaining_features.remove(best_feature)\n",
    "        else:\n",
    "            break\n",
    "\n",
    "    return selected_features, best_rho"
   ]
  },
  {
   "cell_type": "code",
   "execution_count": null,
   "id": "07933f9a-fb6a-49d7-a245-f75ecc9afc08",
   "metadata": {},
   "outputs": [],
   "source": []
  },
  {
   "cell_type": "code",
   "execution_count": 4,
   "id": "f82eee3b-79d7-4c04-8c86-b5f5c61ccd51",
   "metadata": {},
   "outputs": [
    {
     "name": "stdout",
     "output_type": "stream",
     "text": [
      "Attributs sélectionnés: ['spectral_centroid_mean', 'chroma_2_mean']\n",
      "Corrélation de Spearman: 1.0\n",
      "Classement des morceaux par distance croissante avec le morceau 0:\n",
      "Morceau 1 avec distance 0.0038710584117659192\n",
      "Morceau 2 avec distance 0.005708265253409976\n",
      "Morceau 3 avec distance 0.006429584931379759\n",
      "Morceau 4 avec distance 0.01836278215406612\n",
      "Morceau 5 avec distance 0.024162628033182185\n",
      "Morceau 6 avec distance 0.031286143856644064\n",
      "Morceau 7 avec distance 0.046018519224962855\n",
      "Classement de référence: [1, 2, 3, 4, 5, 6, 7]\n"
     ]
    }
   ],
   "source": [
    "from pyAudioAnalysis import audioBasicIO\n",
    "from pyAudioAnalysis import MidTermFeatures\n",
    "import os\n",
    "import numpy as np\n",
    "from scipy.spatial.distance import euclidean\n",
    "from scipy.stats import spearmanr\n",
    "\n",
    "\n",
    "directory_path = \"data\"\n",
    "ground_truth = [1, 2, 3, 4, 5, 6, 7]\n",
    "\n",
    "global_features, feature_names, audio_files = process_directory(directory_path)\n",
    "\n",
    "selected_features, best_rho = sequential_forward_selection(global_features, ground_truth, feature_names)\n",
    "\n",
    "distances = calculate_distances(global_features, selected_features)\n",
    "\n",
    "sorted_indices = rank_tracks(distances)\n",
    "\n",
    "print(\"Attributs sélectionnés:\", [feature_names[i] for i in selected_features])\n",
    "print(\"Corrélation de Spearman:\", best_rho)\n",
    "print(\"Classement des morceaux par distance croissante avec le morceau 0:\")\n",
    "for idx in sorted_indices:\n",
    "    print(f\"Morceau {idx} avec distance {dict(distances)[idx]}\")\n",
    "print(\"Classement de référence:\", ground_truth)\n"
   ]
  },
  {
   "cell_type": "code",
   "execution_count": null,
   "id": "fdcea8a9-1a89-4740-bf49-9b145937c597",
   "metadata": {},
   "outputs": [],
   "source": []
  },
  {
   "cell_type": "code",
   "execution_count": null,
   "id": "5a468f18-1bce-4952-97fa-a83a9093ffef",
   "metadata": {},
   "outputs": [],
   "source": []
  }
 ],
 "metadata": {
  "kernelspec": {
   "display_name": "Python 3 (ipykernel)",
   "language": "python",
   "name": "python3"
  },
  "language_info": {
   "codemirror_mode": {
    "name": "ipython",
    "version": 3
   },
   "file_extension": ".py",
   "mimetype": "text/x-python",
   "name": "python",
   "nbconvert_exporter": "python",
   "pygments_lexer": "ipython3",
   "version": "3.11.7"
  }
 },
 "nbformat": 4,
 "nbformat_minor": 5
}
